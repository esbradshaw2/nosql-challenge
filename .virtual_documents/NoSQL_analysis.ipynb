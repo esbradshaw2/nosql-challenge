





from pymongo import MongoClient
import pandas as pd
from pprint import pprint


# Create an instance of MongoClient
mongo = MongoClient(port=27017)


# assign the uk_food database to a variable name
db = mongo['uk_food']


# review the collections in our database
print(db.list_collection_names())


# assign the collection to a variable
establishments = db['establishments']








# Find the establishments with a hygiene score of 20
query = {"scores.Hygiene": 20}
q1_results = establishments.find(query)

# Use count_documents to display the number of documents in the result
num_documents = establishments.count_documents(query)
print(num_documents)

# Display the first document in the results using pprint
first_doc = q1_results[0]
pprint(first_doc)


# Convert the result to a Pandas DataFrame
q1_df = pd.DataFrame(list(q1_results))

# Display the number of rows in the DataFrame
num_rows = len(q1_df)
print(num_rows)

# Display the first 10 rows of the DataFrame
print(q1_df.head(10))





# Find the establishments with London as the Local Authority and has a RatingValue greater than or equal to 4.
query = {"LocalAuthorityName": {"$regex": "London", "$options": "i"}, "RatingValue": {"$gte": 4}}
q2_results = establishments.find(query)

# Use count_documents to display the number of documents in the result
num_documents = establishments.count_documents(query)
print(num_documents)

# Convert cursor object to list
q2_results_list = list(q2_results)

# Display the first document in the results using pprint
if q2_results_list:
    first_result = q2_results_list[0]
    pprint(first_result)
else:
    print("No documents found matching the query.")



# Convert the result to a Pandas DataFrame

# Display the number of rows in the DataFrame

# Display the first 10 rows of the DataFrame






# Search within 0.01 degree on either side of the latitude and longitude.
# Rating value must equal 5
# Sort by hygiene score

degree_search = 0.01
latitude =
longitude =

query =
sort =
limit =

# Print the results



# Convert result to Pandas DataFrame






# Create a pipeline that:
# 1. Matches establishments with a hygiene score of 0
# 2. Groups the matches by Local Authority
# 3. Sorts the matches from highest to lowest

# Print the number of documents in the result

# Print the first 10 results



# Convert the result to a Pandas DataFrame

# Display the number of rows in the DataFrame

# Display the first 10 rows of the DataFrame


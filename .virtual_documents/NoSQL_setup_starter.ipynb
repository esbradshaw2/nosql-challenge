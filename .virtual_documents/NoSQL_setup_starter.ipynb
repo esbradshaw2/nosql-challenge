








# Import dependencies
from pymongo import MongoClient
from pprint import pprint


# Create an instance of MongoClient
mongo = MongoClient(port=27017)


# Confirm that you created the database and loaded the data properly:
# List the databases you have in MongoDB
db = mongo['uk_food']
print(mongo.list_database_names())


# review the collections in our new database
print(db.list_collection_names())


# review a document in the establishments collection
one_document = db.establishments.find_one()
pprint(one_document)


# assign the collection to a variable
establishments = db['establishments']








# Create a dictionary for the new restaurant data
penang_flavours = {
    "BusinessName":"Penang Flavours",
    "BusinessType":"Restaurant/Cafe/Canteen",
    "BusinessTypeID":"",
    "AddressLine1":"Penang Flavours",
    "AddressLine2":"146A Plumstead Rd",
    "AddressLine3":"London",
    "AddressLine4":"",
    "PostCode":"SE18 7DY",
    "Phone":"",
    "LocalAuthorityCode":"511",
    "LocalAuthorityName":"Greenwich",
    "LocalAuthorityWebSite":"http://www.royalgreenwich.gov.uk",
    "LocalAuthorityEmailAddress":"health@royalgreenwich.gov.uk",
    "scores":{
        "Hygiene":"",
        "Structural":"",
        "ConfidenceInManagement":""
    },
    "SchemeType":"FHRS",
    "geocode":{
        "longitude":"0.08384000",
        "latitude":"51.49014200"
    },
    "RightToReply":"",
    "Distance":4623.9723280747176,
    "NewRatingPending":True
}


# Insert the new restaurant into the collection
insert_new = establishments.insert_one(penang_flavours)


# Check that the new restaurant was inserted
pprint(establishments.find_one({"BusinessName": "Penang Flavours"}))






# Find the BusinessTypeID for "Restaurant/Cafe/Canteen" and return only the BusinessTypeID and BusinessType fields
query = {"BusinessType": "Restaurant/Cafe/Canteen"}
fields = {"BusinessTypeID", "BusinessType"}
restaurant_type = establishments.find_one(query, fields)
pprint(restaurant_type)





# Update the new restaurant with the correct BusinessTypeID
new_restaurant_query = {"BusinessName": "Penang Flavours"}
new_business_type_id = restaurant_type["BusinessTypeID"]

update_query = {"$set": {"BusinessTypeID": new_business_type_id}}
establishments.update_one(new_restaurant_query, update_query)


# Confirm that the new restaurant was updated
updated_restaurant = establishments.find_one(new_restaurant_query)
print(updated_restaurant)





# Find how many documents have LocalAuthorityName as "Dover"
dover_count = establishments.count_documents({ "LocalAuthorityName": "Dover" })
pprint(dover_count)


# Delete all documents where LocalAuthorityName is "Dover"
establishments.delete_many({ "LocalAuthorityName": "Dover" })


# Check if any remaining documents include Dover
remaining_dover_count = establishments.count_documents({ "LocalAuthorityName": "Dover" })
pprint(remaining_dover_count)


# Check that other documents remain with 'find_one'
other_document = establishments.find_one()
pprint(other_document)








# Change the data type from String to Decimal for longitude and latitude
establishments.update_many({}, { "$set": { "geocode.latitude": { "$toDouble": "$geocode.latitude" }, "geocode.longitude": { "$toDouble": "$geocode.longitude" } } })





# Set non 1-5 Rating Values to Null
non_ratings = ["AwaitingInspection", "Awaiting Inspection", "AwaitingPublication", "Pass", "Exempt"]



# Change the data type from String to Integer for RatingValue
establishments.update_many({"RatingValue": {"$in": non_ratings}}, [ {'$set':{ "RatingValue" : None}} ])


# Check that the coordinates and rating value are now numbers
sample_document = establishments.find_one()
print(sample_document)



